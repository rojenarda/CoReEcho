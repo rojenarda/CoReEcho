{
 "cells": [
  {
   "cell_type": "code",
   "execution_count": null,
   "metadata": {},
   "outputs": [],
   "source": [
    "!git clone https://github.com/rojenarda/CoReEcho\n",
    "!mv CoReEcho/coreecho coreecho\n",
    "!mv CoReEcho/requirements.txt requirements.txt\n",
    "!mv CoReEcho/test_start_indexes.pkl test_start_indexes.pkl\n",
    "!mv CoReEcho/train_first_stage.py train_first_stage.py\n",
    "!mv CoReEcho/train_second_stage.py train_second_stage.py\n",
    "!mv CoReEcho/utils.py utils.py\n",
    "\n",
    "!rm -rf CoReEcho\n"
   ]
  },
  {
   "cell_type": "code",
   "execution_count": null,
   "metadata": {},
   "outputs": [],
   "source": [
    "!pip install albumentations==1.2.1\n",
    "!pip install matplotlib==3.7.3\n",
    "!pip install numpy==1.22.4\n",
    "!pip install pandas==1.4.3\n",
    "!pip install pytorch_lightning==1.9.5\n",
    "!pip install pyyaml==6.0\n",
    "!pip install scikit_image==0.19.3\n",
    "!pip install scikit_learn==1.3.2\n",
    "!pip install scipy==1.8.1\n",
    "!pip install torch==1.12.1+cu116 --extra-index-url https://download.pytorch.org/whl/cu116\n",
    "!pip install torchvision==0.13.1+cu116 --extra-index-url https://download.pytorch.org/whl/cu116\n",
    "!pip install torchaudio==0.12.1+cu116 --extra-index-url https://download.pytorch.org/whl/cu116\n",
    "!pip install opencv_contrib_python==4.4.0.46\n",
    "!pip install seaborn==0.13.0\n",
    "!pip install timm==0.6.12\n",
    "!pip install torcheval==0.0.7\n",
    "!pip install lightning_utilities==0.9.0\n",
    "!pip install umap_learn==0.5.4\n",
    "!pip install plotly\n",
    "!pip install comet_ml"
   ]
  },
  {
   "cell_type": "code",
   "execution_count": null,
   "metadata": {},
   "outputs": [],
   "source": [
    "from google.colab import drive\n",
    "\n",
    "drive.mount('/content/drive')"
   ]
  },
  {
   "cell_type": "code",
   "execution_count": null,
   "metadata": {},
   "outputs": [],
   "source": [
    "import os\n",
    "\n",
    "from train_first_stage import main as train_first_stage\n",
    "from train_second_stage import main as train_second_stage"
   ]
  },
  {
   "cell_type": "code",
   "execution_count": null,
   "metadata": {},
   "outputs": [],
   "source": [
    "ECHO_FILE_ROOT = os.path.join('drive', 'MyDrive', 'echo')\n",
    "DATA_DIR = os.path.join(ECHO_FILE_ROOT, 'dataset', 'resized') # HFpEF DIR\n",
    "UNIFORMER_WEIGHTS_DIR = os.path.join(ECHO_FILE_ROOT, 'models', 'uniformer_small_k400_16x8.pth')\n",
    "COMET_API_KEY = ''\n",
    "MODEL_PATH = os.path.join(ECHO_FILE_ROOT, 'models', 'coreecho')\n"
   ]
  },
  {
   "cell_type": "markdown",
   "metadata": {},
   "source": [
    "# Training\n",
    "\n",
    "## Stage 1"
   ]
  },
  {
   "cell_type": "code",
   "execution_count": null,
   "metadata": {},
   "outputs": [],
   "source": [
    "stage_1_args = [\n",
    "    '--data_folder', DATA_DIR,\n",
    "    '--pretrained_weights', UNIFORMER_WEIGHTS_DIR,\n",
    "    '--project_name', 'coreecho-classifier-stage-1',\n",
    "    '--model', 'uniformer_small',\n",
    "    '--num_workers', '8',\n",
    "    '--batch_size', '16',\n",
    "    '--frames', '36',\n",
    "    '--frequency', '4',\n",
    "    '--learning_rate', '1e-4',\n",
    "    '--weight_decay', '1e-4',\n",
    "    '--lr_decay_rate', '0.1',\n",
    "    '--val_n_clips_per_sample', '3',\n",
    "    '--temp', '1.0',\n",
    "    '--aug',\n",
    "    '--epochs', '25',\n",
    "    '--trial', '0',\n",
    "    '--model_path', MODEL_PATH,\n",
    "    '--comet_api_key', COMET_API_KEY\n",
    "]\n",
    "\n",
    "save_file_best = train_first_stage(stage_1_args)"
   ]
  },
  {
   "cell_type": "markdown",
   "metadata": {},
   "source": [
    "## Stage 2"
   ]
  },
  {
   "cell_type": "code",
   "execution_count": null,
   "metadata": {},
   "outputs": [],
   "source": [
    "stage_2_args = [\n",
    "    '--data_folder', DATA_DIR,\n",
    "    '--project_name', 'coreeecho-training-stage-2',\n",
    "    '--model', 'uniformer_small',\n",
    "    '--num_workers', '8',\n",
    "    '--batch_size', '16',\n",
    "    '--frames', '36',\n",
    "    '--frequency', '4',\n",
    "    '--learning_rate', '1e-4',\n",
    "    '--weight_decay', '1e-4',\n",
    "    '--val_n_clips_per_sample', '3',\n",
    "    '--aug',\n",
    "    '--epochs', '4',\n",
    "    '--trial', '0',\n",
    "    '--model_path', MODEL_PATH,\n",
    "    '--comet_api_key', COMET_API_KEY,\n",
    "    '--pretrained_weights', save_file_best\n",
    "]\n",
    "\n",
    "save_file_best = train_second_stage(stage_2_args)"
   ]
  },
  {
   "cell_type": "markdown",
   "metadata": {},
   "source": [
    "# Evaluation"
   ]
  },
  {
   "cell_type": "markdown",
   "metadata": {},
   "source": []
  }
 ],
 "metadata": {
  "language_info": {
   "name": "python"
  }
 },
 "nbformat": 4,
 "nbformat_minor": 2
}
